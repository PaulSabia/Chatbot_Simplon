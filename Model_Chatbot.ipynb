{
 "cells": [
  {
   "cell_type": "markdown",
   "metadata": {},
   "source": [
    "# Chatbot\n",
    "\n",
    "Options :"
   ]
  },
  {
   "cell_type": "code",
   "execution_count": 1,
   "metadata": {},
   "outputs": [],
   "source": [
    "train_model = True\n",
    "#train_model = False"
   ]
  },
  {
   "cell_type": "code",
   "execution_count": 2,
   "metadata": {},
   "outputs": [],
   "source": [
    "api = False\n",
    "#api = True"
   ]
  },
  {
   "cell_type": "code",
   "execution_count": 3,
   "metadata": {},
   "outputs": [],
   "source": [
    "#test = False\n",
    "test = False"
   ]
  },
  {
   "cell_type": "markdown",
   "metadata": {},
   "source": [
    "Importer les modules nécessaires :"
   ]
  },
  {
   "cell_type": "code",
   "execution_count": 4,
   "metadata": {},
   "outputs": [],
   "source": [
    "import json\n",
    "import pandas as pd\n",
    "from nltk.stem.snowball import FrenchStemmer, EnglishStemmer\n",
    "from nltk.corpus import stopwords\n",
    "from langdetect import detect_langs\n",
    "import unicodedata\n",
    "import pickle\n",
    "\n",
    "from tensorflow.keras.preprocessing.text import Tokenizer\n",
    "from tensorflow.keras.preprocessing.sequence import pad_sequences\n",
    "from sklearn.preprocessing import LabelEncoder\n",
    "\n",
    "from tensorflow.keras.layers import Input, Embedding, LSTM, Bidirectional, Dense,GlobalMaxPooling1D,Flatten\n",
    "from tensorflow.keras.models import Sequential, load_model\n",
    "from tensorflow.keras.callbacks import ModelCheckpoint, ReduceLROnPlateau\n",
    "from tensorflow.keras.backend import clear_session\n",
    "\n",
    "from sklearn.metrics import confusion_matrix\n",
    "\n",
    "import matplotlib.pyplot as plt\n",
    "import random\n",
    "import numpy as np\n",
    "\n",
    "from flask import Flask, render_template, request\n",
    "\n",
    "import pickle"
   ]
  },
  {
   "cell_type": "markdown",
   "metadata": {},
   "source": [
    "Obtenir la DataFrame à partir de ``content.json`` :"
   ]
  },
  {
   "cell_type": "code",
   "execution_count": 5,
   "metadata": {},
   "outputs": [],
   "source": [
    "#ouvrir le fichier JSON\n",
    "from API.connecteur import Connecteur"
   ]
  },
  {
   "cell_type": "code",
   "execution_count": 6,
   "metadata": {},
   "outputs": [],
   "source": [
    "data1 = Connecteur.get_all_data()"
   ]
  },
  {
   "cell_type": "code",
   "execution_count": 7,
   "metadata": {
    "scrolled": false
   },
   "outputs": [
    {
     "data": {
      "text/html": [
       "<div>\n",
       "<style scoped>\n",
       "    .dataframe tbody tr th:only-of-type {\n",
       "        vertical-align: middle;\n",
       "    }\n",
       "\n",
       "    .dataframe tbody tr th {\n",
       "        vertical-align: top;\n",
       "    }\n",
       "\n",
       "    .dataframe thead th {\n",
       "        text-align: right;\n",
       "    }\n",
       "</style>\n",
       "<table border=\"1\" class=\"dataframe\">\n",
       "  <thead>\n",
       "    <tr style=\"text-align: right;\">\n",
       "      <th></th>\n",
       "      <th>inputs</th>\n",
       "      <th>tags</th>\n",
       "    </tr>\n",
       "  </thead>\n",
       "  <tbody>\n",
       "    <tr>\n",
       "      <th>926</th>\n",
       "      <td>Est-ce que je peux venir en bus ?</td>\n",
       "      <td>permis</td>\n",
       "    </tr>\n",
       "    <tr>\n",
       "      <th>778</th>\n",
       "      <td>En tant qu'entreprise puis-je proposer des suj...</td>\n",
       "      <td>sujet</td>\n",
       "    </tr>\n",
       "    <tr>\n",
       "      <th>181</th>\n",
       "      <td>Quel niveau d’étude doit-on avoir ?</td>\n",
       "      <td>admission</td>\n",
       "    </tr>\n",
       "    <tr>\n",
       "      <th>914</th>\n",
       "      <td>Est-ce que  l'entreprise  peut me fournir un ...</td>\n",
       "      <td>logement</td>\n",
       "    </tr>\n",
       "    <tr>\n",
       "      <th>75</th>\n",
       "      <td>Pourrais-je devenir étudiant ?</td>\n",
       "      <td>apprenant</td>\n",
       "    </tr>\n",
       "    <tr>\n",
       "      <th>...</th>\n",
       "      <td>...</td>\n",
       "      <td>...</td>\n",
       "    </tr>\n",
       "    <tr>\n",
       "      <th>1066</th>\n",
       "      <td>Où postuler ?</td>\n",
       "      <td>postuler</td>\n",
       "    </tr>\n",
       "    <tr>\n",
       "      <th>177</th>\n",
       "      <td>Où on s’inscrit ?</td>\n",
       "      <td>admission</td>\n",
       "    </tr>\n",
       "    <tr>\n",
       "      <th>656</th>\n",
       "      <td>Je veux être partenaire, qui dois-je contacter ?</td>\n",
       "      <td>contacts</td>\n",
       "    </tr>\n",
       "    <tr>\n",
       "      <th>637</th>\n",
       "      <td>Apprendra-t-on Python ?</td>\n",
       "      <td>techs</td>\n",
       "    </tr>\n",
       "    <tr>\n",
       "      <th>506</th>\n",
       "      <td>Est-ce qu'il faut déjà connaître Python ?</td>\n",
       "      <td>code</td>\n",
       "    </tr>\n",
       "  </tbody>\n",
       "</table>\n",
       "<p>1085 rows × 2 columns</p>\n",
       "</div>"
      ],
      "text/plain": [
       "                                                 inputs       tags\n",
       "926                 Est-ce que je peux venir en bus ?       permis\n",
       "778   En tant qu'entreprise puis-je proposer des suj...      sujet\n",
       "181                 Quel niveau d’étude doit-on avoir ?  admission\n",
       "914    Est-ce que  l'entreprise  peut me fournir un ...   logement\n",
       "75                       Pourrais-je devenir étudiant ?  apprenant\n",
       "...                                                 ...        ...\n",
       "1066                                      Où postuler ?   postuler\n",
       "177                                   Où on s’inscrit ?  admission\n",
       "656    Je veux être partenaire, qui dois-je contacter ?   contacts\n",
       "637                             Apprendra-t-on Python ?      techs\n",
       "506           Est-ce qu'il faut déjà connaître Python ?       code\n",
       "\n",
       "[1085 rows x 2 columns]"
      ]
     },
     "metadata": {},
     "output_type": "display_data"
    },
    {
     "data": {
      "text/plain": [
       "debouches          47\n",
       "apprenant          47\n",
       "admission          42\n",
       "affirmation        39\n",
       "ia                 38\n",
       "partenaire         38\n",
       "covid              36\n",
       "fin                36\n",
       "alternance         33\n",
       "techs              33\n",
       "code               32\n",
       "evaluation         31\n",
       "pédagogie          31\n",
       "salarie            31\n",
       "nombre_promo       27\n",
       "titre              27\n",
       "salutation         26\n",
       "tuteur             25\n",
       "selection          23\n",
       "date               23\n",
       "duree              22\n",
       "pas_demandeur      22\n",
       "choix_alternant    22\n",
       "nombre_recruter    22\n",
       "contacts           22\n",
       "structure          21\n",
       "permis             21\n",
       "postes             21\n",
       "negation           20\n",
       "contrat            20\n",
       "conditions         19\n",
       "postuler           19\n",
       "cout_partenaire    18\n",
       "contribution       18\n",
       "personne           15\n",
       "adresser           15\n",
       "simplon            14\n",
       "aide financiere    14\n",
       "sujet              13\n",
       "logement           13\n",
       "suivi              13\n",
       "materiel           12\n",
       "niveau_fin         11\n",
       "compétences         8\n",
       "insultes            5\n",
       "Name: tags, dtype: int64"
      ]
     },
     "execution_count": 7,
     "metadata": {},
     "output_type": "execute_result"
    }
   ],
   "source": [
    "#créer les listes vides\n",
    "tags = []\n",
    "inputs = []\n",
    "responses={}\n",
    "#les remplir avec le contenu du JSON\n",
    "for intent in data1['intents']:\n",
    "    responses[intent['tag']]=intent['liste_output']\n",
    "    if intent['tag'][:2] != 'en':\n",
    "        for lines in intent['liste_input']:\n",
    "            inputs.append(lines)\n",
    "            tags.append(intent['tag'])\n",
    "    \n",
    "#convertir en DataFrame\n",
    "data = pd.DataFrame({\"inputs\":inputs,\n",
    "                     \"tags\":tags})\n",
    "\n",
    "#mélanger aléatoirement\n",
    "data = data.sample(frac=1)\n",
    "\n",
    "#montrer la DataFrame\n",
    "display(data)\n",
    "#montrer les catégories\n",
    "data[\"tags\"].value_counts()"
   ]
  },
  {
   "cell_type": "markdown",
   "metadata": {},
   "source": [
    "Créer les fonctions de traitement du texte :"
   ]
  },
  {
   "cell_type": "code",
   "execution_count": 8,
   "metadata": {},
   "outputs": [],
   "source": [
    "#enlever les accents du texte\n",
    "def remove_accents(input_str):\n",
    "    nfkd_form = unicodedata.normalize('NFKD', input_str)\n",
    "    only_ascii = nfkd_form.encode('ASCII', 'ignore')\n",
    "    return str(only_ascii)[2:-1]"
   ]
  },
  {
   "cell_type": "code",
   "execution_count": 9,
   "metadata": {},
   "outputs": [],
   "source": [
    "#définir les stopwords\n",
    "stop_words_en = list(set(stopwords.words('english')))\n",
    "stop_words_fr = list(set(stopwords.words('french')))\n",
    "\n",
    "#rajouter aux stopwords français leurs versions sans accents\n",
    "stop_words_fr_1 = []\n",
    "for word in stop_words_fr:\n",
    "    word = remove_accents(word)\n",
    "    stop_words_fr_1.append(word)\n",
    "stop_words_fr = list(sorted(set(stop_words_fr + stop_words_fr_1)))"
   ]
  },
  {
   "cell_type": "code",
   "execution_count": 10,
   "metadata": {},
   "outputs": [],
   "source": [
    "#traiter le texte\n",
    "def treatment(text):\n",
    "    #vérifier si c'est une question\n",
    "    if text[-1] == \"?\":\n",
    "        question = \"?\"\n",
    "    else:\n",
    "        question = \"0\"\n",
    "        \n",
    "    #vérifier la langue\n",
    "    language_list = detect_langs(text)\n",
    "    language_list_2 = []\n",
    "    for language in language_list:\n",
    "        language = str(language).split(\":\")[0]\n",
    "        language_list_2.append(language)\n",
    "    if \"fr\" in language_list_2:\n",
    "        language = \"francais\"\n",
    "    elif \"en\" in language_list_2:\n",
    "        language = \"anglais\"\n",
    "    else:\n",
    "        language = \"francais\"\n",
    "    \n",
    "    #segmenter le texte et traiter chaque mot et chaque lettre\n",
    "    text = text.split()\n",
    "    words_list = []\n",
    "    for word in text:\n",
    "        letters_list = []\n",
    "        for character in word:\n",
    "            #vérifier que le caractère est une lettre\n",
    "            if character.isalpha():\n",
    "                #rajouter à la liste en minuscule\n",
    "                letters_list.append(character.lower())\n",
    "            else:\n",
    "                letters_list.append(\" \")\n",
    "        word = \"\".join(letters_list)\n",
    "        \n",
    "        #appliquer le stemming suivant la langue\n",
    "        for word1 in word.split():\n",
    "            word_yes = False\n",
    "            if language == \"anglais\":\n",
    "                if word1 not in stop_words_en:\n",
    "                    word1 = EnglishStemmer().stem(word1)\n",
    "                    word_yes = True\n",
    "            else:\n",
    "                if word1 not in stop_words_fr:\n",
    "                    word1 = FrenchStemmer().stem(word1)\n",
    "                    word_yes = True\n",
    "            #enlever les accents\n",
    "            if word_yes == True:\n",
    "                word1 = remove_accents(word1)\n",
    "                words_list.append(word1)\n",
    "            \n",
    "    #joindre en une string\n",
    "    text = \" \".join(words_list)\n",
    "    return \" \".join([text, question, language])\n",
    "    #pour avoir en trois colonnes\n",
    "    #return [text, question, language]"
   ]
  },
  {
   "cell_type": "markdown",
   "metadata": {},
   "source": [
    "Obtenir une colonne avec les inputs traités :"
   ]
  },
  {
   "cell_type": "code",
   "execution_count": 11,
   "metadata": {},
   "outputs": [],
   "source": [
    "#pour avoir en trois colonnes\n",
    "\n",
    "#text_list = []\n",
    "#ques_list = []\n",
    "#lang_list = []\n",
    "\n",
    "#for value in data[\"inputs\"]:\n",
    "    #value = treatment(value)\n",
    "    #text_list.append(value[0])\n",
    "    #ques_list.append(value[1])\n",
    "    #lang_list.append(value[2])\n",
    "\n",
    "#data[\"text\"] = text_list\n",
    "#data[\"?\"] = ques_list\n",
    "#data[\"language\"] = lang_list"
   ]
  },
  {
   "cell_type": "code",
   "execution_count": 12,
   "metadata": {},
   "outputs": [],
   "source": [
    "data[\"texts\"] = data[\"inputs\"].apply(treatment)"
   ]
  },
  {
   "cell_type": "code",
   "execution_count": 13,
   "metadata": {},
   "outputs": [
    {
     "data": {
      "text/html": [
       "<div>\n",
       "<style scoped>\n",
       "    .dataframe tbody tr th:only-of-type {\n",
       "        vertical-align: middle;\n",
       "    }\n",
       "\n",
       "    .dataframe tbody tr th {\n",
       "        vertical-align: top;\n",
       "    }\n",
       "\n",
       "    .dataframe thead th {\n",
       "        text-align: right;\n",
       "    }\n",
       "</style>\n",
       "<table border=\"1\" class=\"dataframe\">\n",
       "  <thead>\n",
       "    <tr style=\"text-align: right;\">\n",
       "      <th></th>\n",
       "      <th>inputs</th>\n",
       "      <th>tags</th>\n",
       "      <th>texts</th>\n",
       "    </tr>\n",
       "  </thead>\n",
       "  <tbody>\n",
       "    <tr>\n",
       "      <th>926</th>\n",
       "      <td>Est-ce que je peux venir en bus ?</td>\n",
       "      <td>permis</td>\n",
       "      <td>peux ven bus 0 francais</td>\n",
       "    </tr>\n",
       "    <tr>\n",
       "      <th>778</th>\n",
       "      <td>En tant qu'entreprise puis-je proposer des suj...</td>\n",
       "      <td>sujet</td>\n",
       "      <td>tant entrepris puis propos sujet 0 francais</td>\n",
       "    </tr>\n",
       "    <tr>\n",
       "      <th>181</th>\n",
       "      <td>Quel niveau d’étude doit-on avoir ?</td>\n",
       "      <td>admission</td>\n",
       "      <td>quel niveau etud doit avoir ? francais</td>\n",
       "    </tr>\n",
       "    <tr>\n",
       "      <th>914</th>\n",
       "      <td>Est-ce que  l'entreprise  peut me fournir un ...</td>\n",
       "      <td>logement</td>\n",
       "      <td>entrepris peut fourn log 0 francais</td>\n",
       "    </tr>\n",
       "    <tr>\n",
       "      <th>75</th>\n",
       "      <td>Pourrais-je devenir étudiant ?</td>\n",
       "      <td>apprenant</td>\n",
       "      <td>pourr deven etudi ? francais</td>\n",
       "    </tr>\n",
       "    <tr>\n",
       "      <th>...</th>\n",
       "      <td>...</td>\n",
       "      <td>...</td>\n",
       "      <td>...</td>\n",
       "    </tr>\n",
       "    <tr>\n",
       "      <th>1066</th>\n",
       "      <td>Où postuler ?</td>\n",
       "      <td>postuler</td>\n",
       "      <td>ou postul ? francais</td>\n",
       "    </tr>\n",
       "    <tr>\n",
       "      <th>177</th>\n",
       "      <td>Où on s’inscrit ?</td>\n",
       "      <td>admission</td>\n",
       "      <td>ou inscrit ? anglais</td>\n",
       "    </tr>\n",
       "    <tr>\n",
       "      <th>656</th>\n",
       "      <td>Je veux être partenaire, qui dois-je contacter ?</td>\n",
       "      <td>contacts</td>\n",
       "      <td>veux etre partenair dois contact ? francais</td>\n",
       "    </tr>\n",
       "    <tr>\n",
       "      <th>637</th>\n",
       "      <td>Apprendra-t-on Python ?</td>\n",
       "      <td>techs</td>\n",
       "      <td>apprendra python ? anglais</td>\n",
       "    </tr>\n",
       "    <tr>\n",
       "      <th>506</th>\n",
       "      <td>Est-ce qu'il faut déjà connaître Python ?</td>\n",
       "      <td>code</td>\n",
       "      <td>faut deja connaitr python ? francais</td>\n",
       "    </tr>\n",
       "  </tbody>\n",
       "</table>\n",
       "<p>1085 rows × 3 columns</p>\n",
       "</div>"
      ],
      "text/plain": [
       "                                                 inputs       tags  \\\n",
       "926                 Est-ce que je peux venir en bus ?       permis   \n",
       "778   En tant qu'entreprise puis-je proposer des suj...      sujet   \n",
       "181                 Quel niveau d’étude doit-on avoir ?  admission   \n",
       "914    Est-ce que  l'entreprise  peut me fournir un ...   logement   \n",
       "75                       Pourrais-je devenir étudiant ?  apprenant   \n",
       "...                                                 ...        ...   \n",
       "1066                                      Où postuler ?   postuler   \n",
       "177                                   Où on s’inscrit ?  admission   \n",
       "656    Je veux être partenaire, qui dois-je contacter ?   contacts   \n",
       "637                             Apprendra-t-on Python ?      techs   \n",
       "506           Est-ce qu'il faut déjà connaître Python ?       code   \n",
       "\n",
       "                                            texts  \n",
       "926                       peux ven bus 0 francais  \n",
       "778   tant entrepris puis propos sujet 0 francais  \n",
       "181        quel niveau etud doit avoir ? francais  \n",
       "914           entrepris peut fourn log 0 francais  \n",
       "75                   pourr deven etudi ? francais  \n",
       "...                                           ...  \n",
       "1066                         ou postul ? francais  \n",
       "177                          ou inscrit ? anglais  \n",
       "656   veux etre partenair dois contact ? francais  \n",
       "637                    apprendra python ? anglais  \n",
       "506          faut deja connaitr python ? francais  \n",
       "\n",
       "[1085 rows x 3 columns]"
      ]
     },
     "execution_count": 13,
     "metadata": {},
     "output_type": "execute_result"
    }
   ],
   "source": [
    "data"
   ]
  },
  {
   "cell_type": "markdown",
   "metadata": {},
   "source": [
    "Appliquer le tokenizer sur les inputs traités :"
   ]
  },
  {
   "cell_type": "code",
   "execution_count": 14,
   "metadata": {},
   "outputs": [],
   "source": [
    "tokenizer = Tokenizer(num_words=2000)\n",
    "tokenizer.fit_on_texts(data['texts'])\n",
    "with open('tokenizer_fr.pickle', 'wb') as handle:\n",
    "    pickle.dump(tokenizer, handle, protocol=pickle.HIGHEST_PROTOCOL)\n",
    "\n",
    "train = tokenizer.texts_to_sequences(data['texts'])\n",
    "#apply padding\n",
    "x_train = pad_sequences(train)"
   ]
  },
  {
   "cell_type": "code",
   "execution_count": 15,
   "metadata": {},
   "outputs": [
    {
     "data": {
      "text/plain": [
       "array([[  0,   0,   0, ..., 329,   2,   1],\n",
       "       [  0,   0,   0, ...,  39,   2,   1],\n",
       "       [  0,   0,   0, ...,  43,  35,   1],\n",
       "       ...,\n",
       "       [  0,   0,   0, ...,  69,  29,   1],\n",
       "       [  0,   0,   0, ..., 485,  44,  18],\n",
       "       [  0,   0,   0, ..., 116,  44,   1]])"
      ]
     },
     "execution_count": 15,
     "metadata": {},
     "output_type": "execute_result"
    }
   ],
   "source": [
    "x_train"
   ]
  },
  {
   "cell_type": "markdown",
   "metadata": {},
   "source": [
    "Appliquer LabelEncoder() sur les tags :"
   ]
  },
  {
   "cell_type": "code",
   "execution_count": 16,
   "metadata": {},
   "outputs": [],
   "source": [
    "le = LabelEncoder()\n",
    "y_train = le.fit_transform(data['tags'])\n",
    "\n",
    "with open('labelencoder_fr.pickle', 'wb') as handle:\n",
    "    pickle.dump(le, handle, protocol=pickle.HIGHEST_PROTOCOL)"
   ]
  },
  {
   "cell_type": "code",
   "execution_count": 17,
   "metadata": {},
   "outputs": [
    {
     "name": "stdout",
     "output_type": "stream",
     "text": [
      "12\n"
     ]
    }
   ],
   "source": [
    "input_shape = x_train.shape[1]\n",
    "print(input_shape)"
   ]
  },
  {
   "cell_type": "code",
   "execution_count": 18,
   "metadata": {},
   "outputs": [
    {
     "name": "stdout",
     "output_type": "stream",
     "text": [
      "Nombre de mots uniques :  485\n",
      "Taille des outputs :  45\n"
     ]
    }
   ],
   "source": [
    "vocabulary = len(tokenizer.word_index)\n",
    "print(\"Nombre de mots uniques : \",vocabulary)\n",
    "output_length = le.classes_.shape[0]\n",
    "print(\"Taille des outputs : \",output_length)"
   ]
  },
  {
   "cell_type": "markdown",
   "metadata": {},
   "source": [
    "### Validation (Validation split)"
   ]
  },
  {
   "cell_type": "code",
   "execution_count": 19,
   "metadata": {},
   "outputs": [],
   "source": [
    "#longueur d'1/5 du Dataset\n",
    "prod=int(len(x_train)* 0.2)\n",
    "\n",
    "#séparation en x_val et x_train\n",
    "x_val=x_train[-prod:, :]\n",
    "x_train=x_train[:-prod, :]"
   ]
  },
  {
   "cell_type": "code",
   "execution_count": 20,
   "metadata": {},
   "outputs": [],
   "source": [
    "#séparation en y_val et y_train\n",
    "y_val=y_train[ -prod:]\n",
    "y_train=y_train[:-prod]"
   ]
  },
  {
   "cell_type": "code",
   "execution_count": 21,
   "metadata": {},
   "outputs": [
    {
     "data": {
      "text/plain": [
       "(217, 12)"
      ]
     },
     "metadata": {},
     "output_type": "display_data"
    },
    {
     "data": {
      "text/plain": [
       "(868, 12)"
      ]
     },
     "metadata": {},
     "output_type": "display_data"
    },
    {
     "data": {
      "text/plain": [
       "(217,)"
      ]
     },
     "metadata": {},
     "output_type": "display_data"
    },
    {
     "data": {
      "text/plain": [
       "(868,)"
      ]
     },
     "metadata": {},
     "output_type": "display_data"
    }
   ],
   "source": [
    "#y_train = y_train.reshape(y_train.shape[0], 1)\n",
    "#y_val = y_val.reshape(y_val.shape[0], 1)\n",
    "\n",
    "display(x_val.shape,x_train.shape,y_val.shape,y_train.shape)"
   ]
  },
  {
   "cell_type": "markdown",
   "metadata": {},
   "source": [
    "Créer et entraîner le modèle :"
   ]
  },
  {
   "cell_type": "code",
   "execution_count": 22,
   "metadata": {},
   "outputs": [
    {
     "name": "stdout",
     "output_type": "stream",
     "text": [
      "Epoch 1/100\n",
      "109/109 [==============================] - 12s 44ms/step - loss: 3.7747 - accuracy: 0.0352 - val_loss: 3.7211 - val_accuracy: 0.0691\n",
      "\n",
      "Epoch 00001: val_loss improved from inf to 3.72115, saving model to model_fr.h5\n",
      "Epoch 2/100\n",
      "109/109 [==============================] - 1s 11ms/step - loss: 3.4987 - accuracy: 0.0837 - val_loss: 3.0546 - val_accuracy: 0.1475\n",
      "\n",
      "Epoch 00002: val_loss improved from 3.72115 to 3.05458, saving model to model_fr.h5\n",
      "Epoch 3/100\n",
      "109/109 [==============================] - 1s 10ms/step - loss: 2.8227 - accuracy: 0.1890 - val_loss: 2.6961 - val_accuracy: 0.1982\n",
      "\n",
      "Epoch 00003: val_loss improved from 3.05458 to 2.69613, saving model to model_fr.h5\n",
      "Epoch 4/100\n",
      "109/109 [==============================] - 1s 9ms/step - loss: 2.3280 - accuracy: 0.2935 - val_loss: 2.5828 - val_accuracy: 0.2442\n",
      "\n",
      "Epoch 00004: val_loss improved from 2.69613 to 2.58282, saving model to model_fr.h5\n",
      "Epoch 5/100\n",
      "109/109 [==============================] - 1s 11ms/step - loss: 2.0685 - accuracy: 0.3469 - val_loss: 2.3647 - val_accuracy: 0.3226\n",
      "\n",
      "Epoch 00005: val_loss improved from 2.58282 to 2.36467, saving model to model_fr.h5\n",
      "Epoch 6/100\n",
      "109/109 [==============================] - 1s 10ms/step - loss: 1.7517 - accuracy: 0.4641 - val_loss: 2.1952 - val_accuracy: 0.3963\n",
      "\n",
      "Epoch 00006: val_loss improved from 2.36467 to 2.19516, saving model to model_fr.h5\n",
      "Epoch 7/100\n",
      "109/109 [==============================] - 1s 13ms/step - loss: 1.4268 - accuracy: 0.5352 - val_loss: 2.0574 - val_accuracy: 0.4516\n",
      "\n",
      "Epoch 00007: val_loss improved from 2.19516 to 2.05743, saving model to model_fr.h5\n",
      "Epoch 8/100\n",
      "109/109 [==============================] - 1s 9ms/step - loss: 1.1565 - accuracy: 0.6660 - val_loss: 1.8121 - val_accuracy: 0.4839\n",
      "\n",
      "Epoch 00008: val_loss improved from 2.05743 to 1.81211, saving model to model_fr.h5\n",
      "Epoch 9/100\n",
      "109/109 [==============================] - 1s 11ms/step - loss: 0.7997 - accuracy: 0.7787 - val_loss: 1.7128 - val_accuracy: 0.5300\n",
      "\n",
      "Epoch 00009: val_loss improved from 1.81211 to 1.71278, saving model to model_fr.h5\n",
      "Epoch 10/100\n",
      "109/109 [==============================] - 1s 9ms/step - loss: 0.6948 - accuracy: 0.7908 - val_loss: 1.5690 - val_accuracy: 0.5530\n",
      "\n",
      "Epoch 00010: val_loss improved from 1.71278 to 1.56905, saving model to model_fr.h5\n",
      "Epoch 11/100\n",
      "109/109 [==============================] - 1s 9ms/step - loss: 0.4919 - accuracy: 0.8708 - val_loss: 1.5688 - val_accuracy: 0.5899\n",
      "\n",
      "Epoch 00011: val_loss improved from 1.56905 to 1.56878, saving model to model_fr.h5\n",
      "Epoch 12/100\n",
      "109/109 [==============================] - 1s 10ms/step - loss: 0.3695 - accuracy: 0.9038 - val_loss: 1.4944 - val_accuracy: 0.6221\n",
      "\n",
      "Epoch 00012: val_loss improved from 1.56878 to 1.49442, saving model to model_fr.h5\n",
      "Epoch 13/100\n",
      "109/109 [==============================] - 1s 9ms/step - loss: 0.2806 - accuracy: 0.9453 - val_loss: 1.5121 - val_accuracy: 0.6267\n",
      "\n",
      "Epoch 00013: val_loss did not improve from 1.49442\n",
      "Epoch 14/100\n",
      "109/109 [==============================] - 1s 9ms/step - loss: 0.2501 - accuracy: 0.9309 - val_loss: 1.3813 - val_accuracy: 0.6728\n",
      "\n",
      "Epoch 00014: val_loss improved from 1.49442 to 1.38128, saving model to model_fr.h5\n",
      "Epoch 15/100\n",
      "109/109 [==============================] - 1s 10ms/step - loss: 0.1806 - accuracy: 0.9616 - val_loss: 1.3790 - val_accuracy: 0.6774\n",
      "\n",
      "Epoch 00015: val_loss improved from 1.38128 to 1.37899, saving model to model_fr.h5\n",
      "Epoch 16/100\n",
      "109/109 [==============================] - 1s 9ms/step - loss: 0.1522 - accuracy: 0.9706 - val_loss: 1.3698 - val_accuracy: 0.6820\n",
      "\n",
      "Epoch 00016: val_loss improved from 1.37899 to 1.36980, saving model to model_fr.h5\n",
      "Epoch 17/100\n",
      "109/109 [==============================] - 1s 9ms/step - loss: 0.1255 - accuracy: 0.9736 - val_loss: 1.4858 - val_accuracy: 0.6912\n",
      "\n",
      "Epoch 00017: val_loss did not improve from 1.36980\n",
      "Epoch 18/100\n",
      "109/109 [==============================] - 1s 10ms/step - loss: 0.1053 - accuracy: 0.9823 - val_loss: 1.4661 - val_accuracy: 0.6682\n",
      "\n",
      "Epoch 00018: val_loss did not improve from 1.36980\n",
      "Epoch 19/100\n",
      "109/109 [==============================] - 1s 9ms/step - loss: 0.0898 - accuracy: 0.9742 - val_loss: 1.4547 - val_accuracy: 0.7097\n",
      "\n",
      "Epoch 00019: val_loss did not improve from 1.36980\n",
      "Epoch 20/100\n",
      "109/109 [==============================] - 1s 10ms/step - loss: 0.0953 - accuracy: 0.9780 - val_loss: 1.5395 - val_accuracy: 0.7143\n",
      "\n",
      "Epoch 00020: val_loss did not improve from 1.36980\n",
      "Epoch 21/100\n",
      "109/109 [==============================] - 1s 9ms/step - loss: 0.1342 - accuracy: 0.9623 - val_loss: 1.4929 - val_accuracy: 0.6682\n",
      "\n",
      "Epoch 00021: val_loss did not improve from 1.36980\n",
      "Epoch 22/100\n",
      "109/109 [==============================] - 1s 9ms/step - loss: 0.1088 - accuracy: 0.9708 - val_loss: 1.3544 - val_accuracy: 0.7419\n",
      "\n",
      "Epoch 00022: val_loss improved from 1.36980 to 1.35436, saving model to model_fr.h5\n",
      "Epoch 23/100\n",
      "109/109 [==============================] - 1s 10ms/step - loss: 0.0626 - accuracy: 0.9907 - val_loss: 1.4059 - val_accuracy: 0.7512\n",
      "\n",
      "Epoch 00023: val_loss did not improve from 1.35436\n",
      "Epoch 24/100\n",
      "109/109 [==============================] - 1s 9ms/step - loss: 0.0476 - accuracy: 0.9939 - val_loss: 1.5156 - val_accuracy: 0.7189\n",
      "\n",
      "Epoch 00024: val_loss did not improve from 1.35436\n",
      "Epoch 25/100\n",
      "109/109 [==============================] - 1s 9ms/step - loss: 0.0583 - accuracy: 0.9831 - val_loss: 1.5162 - val_accuracy: 0.7235\n",
      "\n",
      "Epoch 00025: val_loss did not improve from 1.35436\n",
      "Epoch 26/100\n",
      "109/109 [==============================] - 1s 13ms/step - loss: 0.0442 - accuracy: 0.9890 - val_loss: 1.5918 - val_accuracy: 0.7143\n",
      "\n",
      "Epoch 00026: val_loss did not improve from 1.35436\n",
      "Epoch 27/100\n",
      "109/109 [==============================] - 1s 11ms/step - loss: 0.0614 - accuracy: 0.9834 - val_loss: 1.5950 - val_accuracy: 0.7143\n",
      "\n",
      "Epoch 00027: val_loss did not improve from 1.35436\n",
      "Epoch 28/100\n",
      "109/109 [==============================] - ETA: 0s - loss: 0.0927 - accuracy: 0.97 - 1s 11ms/step - loss: 0.0926 - accuracy: 0.9756 - val_loss: 1.5100 - val_accuracy: 0.7281\n",
      "\n",
      "Epoch 00028: val_loss did not improve from 1.35436\n",
      "Epoch 29/100\n",
      "109/109 [==============================] - 1s 11ms/step - loss: 0.0370 - accuracy: 0.9908 - val_loss: 1.5195 - val_accuracy: 0.7235\n",
      "\n",
      "Epoch 00029: val_loss did not improve from 1.35436\n",
      "\n",
      "Epoch 00029: ReduceLROnPlateau reducing learning rate to 0.0005000000237487257.\n",
      "Epoch 30/100\n",
      "109/109 [==============================] - 1s 10ms/step - loss: 0.0354 - accuracy: 0.9876 - val_loss: 1.4628 - val_accuracy: 0.7373\n",
      "\n",
      "Epoch 00030: val_loss did not improve from 1.35436\n",
      "Epoch 31/100\n",
      "109/109 [==============================] - 1s 13ms/step - loss: 0.0291 - accuracy: 0.9923 - val_loss: 1.5027 - val_accuracy: 0.7327\n",
      "\n",
      "Epoch 00031: val_loss did not improve from 1.35436\n",
      "Epoch 32/100\n",
      "109/109 [==============================] - 1s 11ms/step - loss: 0.0350 - accuracy: 0.9835 - val_loss: 1.5133 - val_accuracy: 0.7281\n",
      "\n",
      "Epoch 00032: val_loss did not improve from 1.35436\n",
      "Epoch 33/100\n",
      "109/109 [==============================] - 1s 10ms/step - loss: 0.0346 - accuracy: 0.9838 - val_loss: 1.5230 - val_accuracy: 0.7281\n",
      "\n",
      "Epoch 00033: val_loss did not improve from 1.35436\n",
      "Epoch 34/100\n",
      "109/109 [==============================] - 1s 8ms/step - loss: 0.0284 - accuracy: 0.9896 - val_loss: 1.5293 - val_accuracy: 0.7281\n",
      "\n",
      "Epoch 00034: val_loss did not improve from 1.35436\n",
      "Epoch 35/100\n",
      "109/109 [==============================] - 1s 9ms/step - loss: 0.0250 - accuracy: 0.9926 - val_loss: 1.4825 - val_accuracy: 0.7327\n",
      "\n",
      "Epoch 00035: val_loss did not improve from 1.35436\n",
      "Epoch 36/100\n",
      "109/109 [==============================] - 1s 9ms/step - loss: 0.0238 - accuracy: 0.9912 - val_loss: 1.5638 - val_accuracy: 0.7327\n",
      "\n",
      "Epoch 00036: val_loss did not improve from 1.35436\n",
      "\n",
      "Epoch 00036: ReduceLROnPlateau reducing learning rate to 0.0002500000118743628.\n",
      "Epoch 37/100\n",
      "109/109 [==============================] - 1s 12ms/step - loss: 0.0176 - accuracy: 0.9955 - val_loss: 1.5639 - val_accuracy: 0.7281\n",
      "\n",
      "Epoch 00037: val_loss did not improve from 1.35436\n",
      "Epoch 38/100\n",
      "109/109 [==============================] - 1s 11ms/step - loss: 0.0257 - accuracy: 0.9906 - val_loss: 1.5478 - val_accuracy: 0.7281\n",
      "\n",
      "Epoch 00038: val_loss did not improve from 1.35436\n",
      "Epoch 39/100\n"
     ]
    },
    {
     "name": "stdout",
     "output_type": "stream",
     "text": [
      "109/109 [==============================] - 1s 9ms/step - loss: 0.0234 - accuracy: 0.9898 - val_loss: 1.5444 - val_accuracy: 0.7373\n",
      "\n",
      "Epoch 00039: val_loss did not improve from 1.35436\n",
      "Epoch 40/100\n",
      "109/109 [==============================] - 1s 9ms/step - loss: 0.0163 - accuracy: 0.9958 - val_loss: 1.5801 - val_accuracy: 0.7373\n",
      "\n",
      "Epoch 00040: val_loss did not improve from 1.35436\n",
      "Epoch 41/100\n",
      "109/109 [==============================] - 1s 9ms/step - loss: 0.0189 - accuracy: 0.9941 - val_loss: 1.6082 - val_accuracy: 0.7419\n",
      "\n",
      "Epoch 00041: val_loss did not improve from 1.35436\n",
      "Epoch 42/100\n",
      "109/109 [==============================] - 1s 11ms/step - loss: 0.0316 - accuracy: 0.9865 - val_loss: 1.5496 - val_accuracy: 0.7373\n",
      "\n",
      "Epoch 00042: val_loss did not improve from 1.35436\n",
      "Epoch 43/100\n",
      "109/109 [==============================] - 1s 10ms/step - loss: 0.0229 - accuracy: 0.9918 - val_loss: 1.5916 - val_accuracy: 0.7419\n",
      "\n",
      "Epoch 00043: val_loss did not improve from 1.35436\n",
      "\n",
      "Epoch 00043: ReduceLROnPlateau reducing learning rate to 0.0001250000059371814.\n",
      "Epoch 44/100\n",
      "109/109 [==============================] - 1s 10ms/step - loss: 0.0190 - accuracy: 0.9949 - val_loss: 1.5816 - val_accuracy: 0.7373\n",
      "\n",
      "Epoch 00044: val_loss did not improve from 1.35436\n",
      "Epoch 45/100\n",
      "109/109 [==============================] - 1s 9ms/step - loss: 0.0176 - accuracy: 0.9918 - val_loss: 1.5841 - val_accuracy: 0.7373\n",
      "\n",
      "Epoch 00045: val_loss did not improve from 1.35436\n",
      "Epoch 46/100\n",
      "109/109 [==============================] - 1s 10ms/step - loss: 0.0187 - accuracy: 0.9946 - val_loss: 1.5965 - val_accuracy: 0.7281\n",
      "\n",
      "Epoch 00046: val_loss did not improve from 1.35436\n",
      "Epoch 47/100\n",
      "109/109 [==============================] - 1s 9ms/step - loss: 0.0240 - accuracy: 0.9922 - val_loss: 1.5893 - val_accuracy: 0.7373\n",
      "\n",
      "Epoch 00047: val_loss did not improve from 1.35436\n",
      "Epoch 48/100\n",
      "109/109 [==============================] - 1s 8ms/step - loss: 0.0228 - accuracy: 0.9890 - val_loss: 1.5775 - val_accuracy: 0.7235\n",
      "\n",
      "Epoch 00048: val_loss did not improve from 1.35436\n",
      "Epoch 49/100\n",
      "109/109 [==============================] - 1s 8ms/step - loss: 0.0319 - accuracy: 0.9880 - val_loss: 1.5845 - val_accuracy: 0.7281\n",
      "\n",
      "Epoch 00049: val_loss did not improve from 1.35436\n",
      "Epoch 50/100\n",
      "109/109 [==============================] - 1s 9ms/step - loss: 0.0200 - accuracy: 0.9917 - val_loss: 1.6026 - val_accuracy: 0.7327\n",
      "\n",
      "Epoch 00050: val_loss did not improve from 1.35436\n",
      "\n",
      "Epoch 00050: ReduceLROnPlateau reducing learning rate to 6.25000029685907e-05.\n",
      "Epoch 51/100\n",
      "109/109 [==============================] - 1s 9ms/step - loss: 0.0315 - accuracy: 0.9850 - val_loss: 1.5956 - val_accuracy: 0.7327\n",
      "\n",
      "Epoch 00051: val_loss did not improve from 1.35436\n",
      "Epoch 52/100\n",
      "109/109 [==============================] - 1s 8ms/step - loss: 0.0198 - accuracy: 0.9895 - val_loss: 1.5951 - val_accuracy: 0.7327\n",
      "\n",
      "Epoch 00052: val_loss did not improve from 1.35436\n",
      "Epoch 53/100\n",
      "109/109 [==============================] - 1s 8ms/step - loss: 0.0238 - accuracy: 0.9885 - val_loss: 1.5986 - val_accuracy: 0.7327\n",
      "\n",
      "Epoch 00053: val_loss did not improve from 1.35436\n",
      "Epoch 54/100\n",
      "109/109 [==============================] - 1s 8ms/step - loss: 0.0220 - accuracy: 0.9918 - val_loss: 1.5942 - val_accuracy: 0.7327\n",
      "\n",
      "Epoch 00054: val_loss did not improve from 1.35436\n",
      "Epoch 55/100\n",
      "109/109 [==============================] - 1s 8ms/step - loss: 0.0197 - accuracy: 0.9943 - val_loss: 1.5901 - val_accuracy: 0.7281\n",
      "\n",
      "Epoch 00055: val_loss did not improve from 1.35436\n",
      "Epoch 56/100\n",
      "109/109 [==============================] - 1s 8ms/step - loss: 0.0174 - accuracy: 0.9914 - val_loss: 1.6031 - val_accuracy: 0.7327\n",
      "\n",
      "Epoch 00056: val_loss did not improve from 1.35436\n",
      "Epoch 57/100\n",
      "109/109 [==============================] - 1s 9ms/step - loss: 0.0219 - accuracy: 0.9885 - val_loss: 1.5955 - val_accuracy: 0.7281\n",
      "\n",
      "Epoch 00057: val_loss did not improve from 1.35436\n",
      "\n",
      "Epoch 00057: ReduceLROnPlateau reducing learning rate to 3.125000148429535e-05.\n",
      "Epoch 58/100\n",
      "109/109 [==============================] - 1s 10ms/step - loss: 0.0210 - accuracy: 0.9899 - val_loss: 1.5989 - val_accuracy: 0.7327\n",
      "\n",
      "Epoch 00058: val_loss did not improve from 1.35436\n",
      "Epoch 59/100\n",
      "109/109 [==============================] - 1s 9ms/step - loss: 0.0158 - accuracy: 0.9953 - val_loss: 1.6009 - val_accuracy: 0.7327\n",
      "\n",
      "Epoch 00059: val_loss did not improve from 1.35436\n",
      "Epoch 60/100\n",
      "109/109 [==============================] - 1s 8ms/step - loss: 0.0230 - accuracy: 0.9913 - val_loss: 1.6018 - val_accuracy: 0.7327\n",
      "\n",
      "Epoch 00060: val_loss did not improve from 1.35436\n",
      "Epoch 61/100\n",
      "109/109 [==============================] - 1s 8ms/step - loss: 0.0187 - accuracy: 0.9918 - val_loss: 1.6025 - val_accuracy: 0.7327\n",
      "\n",
      "Epoch 00061: val_loss did not improve from 1.35436\n",
      "Epoch 62/100\n",
      "109/109 [==============================] - 1s 8ms/step - loss: 0.0147 - accuracy: 0.9967 - val_loss: 1.6061 - val_accuracy: 0.7327\n",
      "\n",
      "Epoch 00062: val_loss did not improve from 1.35436\n",
      "Epoch 63/100\n",
      "109/109 [==============================] - 1s 9ms/step - loss: 0.0142 - accuracy: 0.9926 - val_loss: 1.6021 - val_accuracy: 0.7327\n",
      "\n",
      "Epoch 00063: val_loss did not improve from 1.35436\n",
      "Epoch 64/100\n",
      "109/109 [==============================] - 1s 9ms/step - loss: 0.0158 - accuracy: 0.9933 - val_loss: 1.6032 - val_accuracy: 0.7327\n",
      "\n",
      "Epoch 00064: val_loss did not improve from 1.35436\n",
      "\n",
      "Epoch 00064: ReduceLROnPlateau reducing learning rate to 1.5625000742147677e-05.\n",
      "Epoch 65/100\n",
      "109/109 [==============================] - 1s 9ms/step - loss: 0.0137 - accuracy: 0.9951 - val_loss: 1.6047 - val_accuracy: 0.7327\n",
      "\n",
      "Epoch 00065: val_loss did not improve from 1.35436\n",
      "Epoch 66/100\n",
      "109/109 [==============================] - 1s 8ms/step - loss: 0.0204 - accuracy: 0.9904 - val_loss: 1.6076 - val_accuracy: 0.7327\n",
      "\n",
      "Epoch 00066: val_loss did not improve from 1.35436\n",
      "Epoch 67/100\n",
      "109/109 [==============================] - 1s 9ms/step - loss: 0.0178 - accuracy: 0.9925 - val_loss: 1.6085 - val_accuracy: 0.7327\n",
      "\n",
      "Epoch 00067: val_loss did not improve from 1.35436\n",
      "Epoch 68/100\n",
      "109/109 [==============================] - ETA: 0s - loss: 0.0177 - accuracy: 0.99 - 1s 9ms/step - loss: 0.0179 - accuracy: 0.9938 - val_loss: 1.6098 - val_accuracy: 0.7327\n",
      "\n",
      "Epoch 00068: val_loss did not improve from 1.35436\n",
      "Epoch 69/100\n",
      "109/109 [==============================] - 1s 9ms/step - loss: 0.0219 - accuracy: 0.9916 - val_loss: 1.6102 - val_accuracy: 0.7327\n",
      "\n",
      "Epoch 00069: val_loss did not improve from 1.35436\n",
      "Epoch 70/100\n",
      "109/109 [==============================] - 1s 9ms/step - loss: 0.0235 - accuracy: 0.9860 - val_loss: 1.6104 - val_accuracy: 0.7327\n",
      "\n",
      "Epoch 00070: val_loss did not improve from 1.35436\n",
      "Epoch 71/100\n",
      "109/109 [==============================] - 1s 8ms/step - loss: 0.0114 - accuracy: 0.9954 - val_loss: 1.6119 - val_accuracy: 0.7327\n",
      "\n",
      "Epoch 00071: val_loss did not improve from 1.35436\n",
      "\n",
      "Epoch 00071: ReduceLROnPlateau reducing learning rate to 7.812500371073838e-06.\n",
      "Epoch 72/100\n",
      "109/109 [==============================] - 1s 9ms/step - loss: 0.0171 - accuracy: 0.9917 - val_loss: 1.6126 - val_accuracy: 0.7327\n",
      "\n",
      "Epoch 00072: val_loss did not improve from 1.35436\n",
      "Epoch 73/100\n",
      "109/109 [==============================] - 1s 8ms/step - loss: 0.0144 - accuracy: 0.9951 - val_loss: 1.6121 - val_accuracy: 0.7327\n",
      "\n",
      "Epoch 00073: val_loss did not improve from 1.35436\n",
      "Epoch 74/100\n",
      "109/109 [==============================] - 1s 8ms/step - loss: 0.0211 - accuracy: 0.9896 - val_loss: 1.6131 - val_accuracy: 0.7327\n",
      "\n",
      "Epoch 00074: val_loss did not improve from 1.35436\n",
      "Epoch 75/100\n",
      "109/109 [==============================] - 1s 8ms/step - loss: 0.0174 - accuracy: 0.9931 - val_loss: 1.6133 - val_accuracy: 0.7327\n",
      "\n",
      "Epoch 00075: val_loss did not improve from 1.35436\n",
      "Epoch 76/100\n",
      "109/109 [==============================] - 1s 8ms/step - loss: 0.0189 - accuracy: 0.9924 - val_loss: 1.6142 - val_accuracy: 0.7327\n",
      "\n",
      "Epoch 00076: val_loss did not improve from 1.35436\n",
      "Epoch 77/100\n",
      "109/109 [==============================] - 1s 9ms/step - loss: 0.0217 - accuracy: 0.9910 - val_loss: 1.6146 - val_accuracy: 0.7327\n",
      "\n",
      "Epoch 00077: val_loss did not improve from 1.35436\n",
      "Epoch 78/100\n",
      "109/109 [==============================] - 1s 8ms/step - loss: 0.0179 - accuracy: 0.9928 - val_loss: 1.6147 - val_accuracy: 0.7327\n"
     ]
    },
    {
     "name": "stdout",
     "output_type": "stream",
     "text": [
      "\n",
      "Epoch 00078: val_loss did not improve from 1.35436\n",
      "\n",
      "Epoch 00078: ReduceLROnPlateau reducing learning rate to 3.906250185536919e-06.\n",
      "Epoch 79/100\n",
      "109/109 [==============================] - 1s 8ms/step - loss: 0.0182 - accuracy: 0.9919 - val_loss: 1.6148 - val_accuracy: 0.7327\n",
      "\n",
      "Epoch 00079: val_loss did not improve from 1.35436\n",
      "Epoch 80/100\n",
      "109/109 [==============================] - 1s 8ms/step - loss: 0.0204 - accuracy: 0.9868 - val_loss: 1.6149 - val_accuracy: 0.7327\n",
      "\n",
      "Epoch 00080: val_loss did not improve from 1.35436\n",
      "Epoch 81/100\n",
      "109/109 [==============================] - 1s 8ms/step - loss: 0.0148 - accuracy: 0.9943 - val_loss: 1.6152 - val_accuracy: 0.7327\n",
      "\n",
      "Epoch 00081: val_loss did not improve from 1.35436\n",
      "Epoch 82/100\n",
      "109/109 [==============================] - 1s 8ms/step - loss: 0.0220 - accuracy: 0.9919 - val_loss: 1.6163 - val_accuracy: 0.7327\n",
      "\n",
      "Epoch 00082: val_loss did not improve from 1.35436\n",
      "Epoch 83/100\n",
      "109/109 [==============================] - 1s 8ms/step - loss: 0.0152 - accuracy: 0.9949 - val_loss: 1.6156 - val_accuracy: 0.7327\n",
      "\n",
      "Epoch 00083: val_loss did not improve from 1.35436\n",
      "Epoch 84/100\n",
      "109/109 [==============================] - 1s 8ms/step - loss: 0.0200 - accuracy: 0.9901 - val_loss: 1.6155 - val_accuracy: 0.7327\n",
      "\n",
      "Epoch 00084: val_loss did not improve from 1.35436\n",
      "Epoch 85/100\n",
      "109/109 [==============================] - 1s 8ms/step - loss: 0.0190 - accuracy: 0.9884 - val_loss: 1.6158 - val_accuracy: 0.7327\n",
      "\n",
      "Epoch 00085: val_loss did not improve from 1.35436\n",
      "\n",
      "Epoch 00085: ReduceLROnPlateau reducing learning rate to 1.9531250927684596e-06.\n",
      "Epoch 86/100\n",
      "109/109 [==============================] - 1s 8ms/step - loss: 0.0161 - accuracy: 0.9953 - val_loss: 1.6161 - val_accuracy: 0.7327\n",
      "\n",
      "Epoch 00086: val_loss did not improve from 1.35436\n",
      "Epoch 87/100\n",
      "109/109 [==============================] - 1s 8ms/step - loss: 0.0204 - accuracy: 0.9923 - val_loss: 1.6160 - val_accuracy: 0.7327\n",
      "\n",
      "Epoch 00087: val_loss did not improve from 1.35436\n",
      "Epoch 88/100\n",
      "109/109 [==============================] - 1s 8ms/step - loss: 0.0192 - accuracy: 0.9932 - val_loss: 1.6163 - val_accuracy: 0.7327\n",
      "\n",
      "Epoch 00088: val_loss did not improve from 1.35436\n",
      "Epoch 89/100\n",
      "109/109 [==============================] - 1s 8ms/step - loss: 0.0191 - accuracy: 0.9909 - val_loss: 1.6164 - val_accuracy: 0.7327\n",
      "\n",
      "Epoch 00089: val_loss did not improve from 1.35436\n",
      "Epoch 90/100\n",
      "109/109 [==============================] - 1s 8ms/step - loss: 0.0222 - accuracy: 0.9867 - val_loss: 1.6165 - val_accuracy: 0.7327\n",
      "\n",
      "Epoch 00090: val_loss did not improve from 1.35436\n",
      "Epoch 91/100\n",
      "109/109 [==============================] - 1s 8ms/step - loss: 0.0202 - accuracy: 0.9900 - val_loss: 1.6164 - val_accuracy: 0.7327\n",
      "\n",
      "Epoch 00091: val_loss did not improve from 1.35436\n",
      "Epoch 92/100\n",
      "109/109 [==============================] - 1s 8ms/step - loss: 0.0222 - accuracy: 0.9878 - val_loss: 1.6165 - val_accuracy: 0.7327\n",
      "\n",
      "Epoch 00092: val_loss did not improve from 1.35436\n",
      "\n",
      "Epoch 00092: ReduceLROnPlateau reducing learning rate to 9.765625463842298e-07.\n",
      "Epoch 93/100\n",
      "109/109 [==============================] - 1s 8ms/step - loss: 0.0118 - accuracy: 0.9968 - val_loss: 1.6167 - val_accuracy: 0.7327\n",
      "\n",
      "Epoch 00093: val_loss did not improve from 1.35436\n",
      "Epoch 94/100\n",
      "109/109 [==============================] - 1s 8ms/step - loss: 0.0141 - accuracy: 0.9958 - val_loss: 1.6168 - val_accuracy: 0.7327\n",
      "\n",
      "Epoch 00094: val_loss did not improve from 1.35436\n",
      "Epoch 95/100\n",
      "109/109 [==============================] - 1s 8ms/step - loss: 0.0141 - accuracy: 0.9953 - val_loss: 1.6168 - val_accuracy: 0.7327\n",
      "\n",
      "Epoch 00095: val_loss did not improve from 1.35436\n",
      "Epoch 96/100\n",
      "109/109 [==============================] - 1s 8ms/step - loss: 0.0183 - accuracy: 0.9927 - val_loss: 1.6170 - val_accuracy: 0.7327\n",
      "\n",
      "Epoch 00096: val_loss did not improve from 1.35436\n",
      "Epoch 97/100\n",
      "109/109 [==============================] - 1s 8ms/step - loss: 0.0214 - accuracy: 0.9923 - val_loss: 1.6169 - val_accuracy: 0.7327\n",
      "\n",
      "Epoch 00097: val_loss did not improve from 1.35436\n",
      "Epoch 98/100\n",
      "109/109 [==============================] - 1s 8ms/step - loss: 0.0148 - accuracy: 0.9951 - val_loss: 1.6170 - val_accuracy: 0.7327\n",
      "\n",
      "Epoch 00098: val_loss did not improve from 1.35436\n",
      "Epoch 99/100\n",
      "109/109 [==============================] - 1s 8ms/step - loss: 0.0124 - accuracy: 0.9959 - val_loss: 1.6172 - val_accuracy: 0.7327\n",
      "\n",
      "Epoch 00099: val_loss did not improve from 1.35436\n",
      "\n",
      "Epoch 00099: ReduceLROnPlateau reducing learning rate to 4.882812731921149e-07.\n",
      "Epoch 100/100\n",
      "109/109 [==============================] - 1s 8ms/step - loss: 0.0136 - accuracy: 0.9960 - val_loss: 1.6172 - val_accuracy: 0.7327\n",
      "\n",
      "Epoch 00100: val_loss did not improve from 1.35436\n"
     ]
    }
   ],
   "source": [
    "if train_model == True:\n",
    "    #créer le modèle\n",
    "    model = Sequential()\n",
    "    model.add(Input(shape=(input_shape,)))\n",
    "    model.add(Embedding(vocabulary+1, 10))\n",
    "    model.add(Bidirectional(LSTM(40, return_sequences=True)))\n",
    "    model.add(Flatten())\n",
    "    model.add(Dense(output_length, activation=\"softmax\"))\n",
    "\n",
    "    #compiler le modèle\n",
    "    model.compile(loss=\"sparse_categorical_crossentropy\",optimizer='adam',metrics=['accuracy'])\n",
    "    \n",
    "    #enregistrer le modèle à son meilleur résultat\n",
    "    model_name = \"model_fr.h5\"\n",
    "\n",
    "    modelcheckpoint = ModelCheckpoint(model_name,\n",
    "                                      monitor='val_loss',\n",
    "                                      mode='auto',\n",
    "                                      verbose=1,\n",
    "                                      save_best_only=True)\n",
    "    lr_scheduler = ReduceLROnPlateau(\n",
    "    monitor='val_loss',\n",
    "    factor=0.5,\n",
    "    patience=7,\n",
    "    min_lr=1e-7,\n",
    "    verbose=1)\n",
    "    \n",
    "\n",
    "    callback_list = [modelcheckpoint, lr_scheduler]\n",
    "    \n",
    "    #entraîner le modèle\n",
    "    history = model.fit(x_train,y_train,epochs=100, batch_size=8, validation_data=(x_val, y_val), callbacks=callback_list)\n",
    "    clear_session()"
   ]
  },
  {
   "cell_type": "markdown",
   "metadata": {},
   "source": [
    "Faire une prédiction sur ``x_val`` :"
   ]
  },
  {
   "cell_type": "code",
   "execution_count": 23,
   "metadata": {},
   "outputs": [],
   "source": [
    "#obtenir les arguments pour chaque ligne\n",
    "y_pred=model.predict(x_val)"
   ]
  },
  {
   "cell_type": "code",
   "execution_count": 24,
   "metadata": {},
   "outputs": [
    {
     "data": {
      "text/plain": [
       "array([35,  2, 24,  5, 16,  4, 28, 35, 27, 39, 36, 28, 16, 29, 28, 20, 38,\n",
       "       26, 39, 18, 30, 28, 28, 16, 17, 42,  7,  0,  0, 20, 39,  4, 37,  4,\n",
       "       11, 15, 44, 18, 38, 29, 39,  0,  4,  3,  6,  7, 25, 35, 24,  2, 10,\n",
       "       19,  2, 11, 32, 15, 14, 16, 24, 16, 43, 37, 32, 40, 37,  0, 24, 36,\n",
       "       37, 30, 31,  5, 35,  5, 33,  5,  6, 27, 43, 20,  7, 22,  3, 24, 16,\n",
       "       35, 43, 13, 29, 35,  9,  6, 28, 42, 39, 39, 24, 20, 15, 37, 11, 43,\n",
       "       42, 37, 17, 33,  4,  0, 29, 16, 23, 20, 15,  9, 25,  9,  9, 15, 42,\n",
       "        4, 23, 20, 30, 26, 18, 17, 36, 42, 36, 11, 36, 35, 24,  7, 38, 42,\n",
       "       14, 15, 37,  8,  4,  0, 14,  5, 35, 42,  5, 36, 16,  4, 14, 28, 20,\n",
       "       37, 34, 31, 44,  6,  9,  7, 30, 15, 20, 13, 36, 36, 30, 35,  2, 44,\n",
       "       30, 43, 32, 36, 34, 39, 38,  8, 12, 10, 27,  0,  5, 28, 39,  7, 31,\n",
       "       12, 26, 33, 28, 19,  4, 36, 34, 24,  4, 35, 28, 43,  2,  6,  1, 14,\n",
       "        2, 20, 43, 24, 13,  7, 31, 31, 33, 33, 10, 42,  7], dtype=int64)"
      ]
     },
     "execution_count": 24,
     "metadata": {},
     "output_type": "execute_result"
    }
   ],
   "source": [
    "#récupérer l'argument maximal sur chaque ligne\n",
    "y_pred_2 =[]\n",
    "for pred in y_pred:\n",
    "    y_pred_2.append(pred.argmax())\n",
    "y_pred_2 = np.array(y_pred_2)\n",
    "y_pred_2"
   ]
  },
  {
   "cell_type": "markdown",
   "metadata": {},
   "source": [
    "faire une matrice de confusion pour comparer y_train de y_val"
   ]
  },
  {
   "cell_type": "code",
   "execution_count": 25,
   "metadata": {},
   "outputs": [
    {
     "data": {
      "image/png": "[encoded data removed]",
      "text/plain": [
       "<Figure size 1440x1440 with 2 Axes>"
      ]
     },
     "metadata": {
      "needs_background": "light"
     },
     "output_type": "display_data"
    }
   ],
   "source": [
    "import seaborn as sns\n",
    "\n",
    "cm = confusion_matrix(y_val , y_pred_2)\n",
    "plt.figure(figsize=(20,20))\n",
    "sns.heatmap(cm, annot=True, fmt=\".0f\", cmap = 'mako')\n",
    "plt.ylabel('Actual label')\n",
    "plt.xlabel('Predicted label')\n",
    "plt.title(\"Matrice de confusion\", size = 20)\n",
    "plt.show()"
   ]
  },
  {
   "cell_type": "markdown",
   "metadata": {},
   "source": [
    "### Historique"
   ]
  },
  {
   "cell_type": "code",
   "execution_count": 26,
   "metadata": {},
   "outputs": [
    {
     "data": {
      "image/png": "[encoded data removed]",
      "text/plain": [
       "<Figure size 432x288 with 1 Axes>"
      ]
     },
     "metadata": {
      "needs_background": "light"
     },
     "output_type": "display_data"
    }
   ],
   "source": [
    "if train_model == True:\n",
    "    #montrer l'historique de précision et des pertes\n",
    "    plt.plot(history.history['accuracy'],label=\"précision de l'entraînement sur train\")\n",
    "    plt.plot(history.history['val_accuracy'],label=\"pertes de l'entraînement sur validation\")\n",
    "    plt.legend()"
   ]
  },
  {
   "cell_type": "code",
   "execution_count": 27,
   "metadata": {},
   "outputs": [
    {
     "data": {
      "image/png": "[encoded data removed]",
      "text/plain": [
       "<Figure size 432x288 with 1 Axes>"
      ]
     },
     "metadata": {
      "needs_background": "light"
     },
     "output_type": "display_data"
    }
   ],
   "source": [
    "if train_model == True:\n",
    "    #montrer l'historique de précision et des pertes\n",
    "    plt.plot(history.history['loss'],label=\"précision de l'entraînement sur train\")\n",
    "    plt.plot(history.history['val_loss'],label=\"pertes de l'entraînement sur validation\")\n",
    "    plt.legend()"
   ]
  },
  {
   "cell_type": "code",
   "execution_count": 28,
   "metadata": {},
   "outputs": [],
   "source": [
    "if train_model == False:\n",
    "    model = load_model(\"model_py/model.h5\")"
   ]
  },
  {
   "cell_type": "markdown",
   "metadata": {},
   "source": [
    "## Test\n",
    "\n",
    "Taper 0 pour sortir."
   ]
  },
  {
   "cell_type": "code",
   "execution_count": 29,
   "metadata": {},
   "outputs": [],
   "source": [
    "if test == True:\n",
    "    while True:\n",
    "      texts_p = []\n",
    "      prediction_input = input('Vous : ')\n",
    "      if prediction_input == \"0\":\n",
    "        break\n",
    "\n",
    "      #appliquer la fonction treatment\n",
    "      prediction_input = treatment(prediction_input)\n",
    "      texts_p.append(prediction_input)\n",
    "      print(prediction_input)\n",
    "\n",
    "      #tokenizer et padding\n",
    "      prediction_input = tokenizer.texts_to_sequences(texts_p)\n",
    "      prediction_input = np.array(prediction_input).reshape(-1)\n",
    "      prediction_input = pad_sequences([prediction_input],input_shape)\n",
    "      print(prediction_input)\n",
    "\n",
    "      #obtenir la prédiction du modèle\n",
    "      output = model.predict(prediction_input)\n",
    "      output = output.argmax()\n",
    "      print(output)\n",
    "\n",
    "      #trouver la tag correspondante et la réponse\n",
    "      response_tag = le.inverse_transform([output])[0]\n",
    "      print(response_tag)\n",
    "      #print(\"Chatbot : \",random.choice(responses[response_tag]))\n",
    "      if response_tag == \"goodbye\":\n",
    "        break"
   ]
  },
  {
   "cell_type": "code",
   "execution_count": null,
   "metadata": {},
   "outputs": [],
   "source": []
  },
  {
   "cell_type": "markdown",
   "metadata": {},
   "source": [
    "## API"
   ]
  },
  {
   "cell_type": "code",
   "execution_count": 30,
   "metadata": {},
   "outputs": [],
   "source": [
    "if api == True:\n",
    "    app = Flask(__name__)\n",
    "\n",
    "    s_list = [\"inconnu\", \"apprenant\", \"partenaire\"]\n",
    "    user_status = s_list[0]\n",
    "\n",
    "    #créer deux listes de tags identifiant l'utilisateur comme étant apprenant ou partenaire\n",
    "    appr_list = []\n",
    "    part_list = []\n",
    "\n",
    "    #créer deux dictionnaires avec les équivalents d'output apprenant/partenaire\n",
    "    to_appr = {}\n",
    "    to_part = {}\n",
    "\n",
    "\n",
    "    #definir les app.route\n",
    "    @app.route(\"/\")\n",
    "    def index():\n",
    "        return render_template(\"index.html\")\n",
    "\n",
    "    @app.route(\"/get\")\n",
    "    #fonction de réponse\n",
    "    def get_bot_response():\n",
    "        #obtenir la question et la formatter\n",
    "        texts_p = []\n",
    "        prediction_input = request.args.get('msg')\n",
    "        prediction_input = treatment(prediction_input)\n",
    "        texts_p.append(prediction_input)\n",
    "\n",
    "        #formatter l'input\n",
    "        prediction_input = tokenizer.texts_to_sequences(texts_p)\n",
    "        prediction_input = np.array(prediction_input).reshape(-1)\n",
    "        prediction_input = pad_sequences([prediction_input],input_shape)\n",
    "\n",
    "        #prédire l'output\n",
    "        output = model.predict(prediction_input)\n",
    "        output = output.argmax()\n",
    "\n",
    "        #vérifier si l'output identifie l'utilisateur\n",
    "        if output in appr_list:\n",
    "            user_status = s_list[1]\n",
    "        elif output in part_list:\n",
    "            user_status = s_list[2]\n",
    "\n",
    "        #si l'utilisateur est identifié et l'output est susceptible de changer pour ça, alors le changer\n",
    "        if user_status == s_list[1] and output in to_appr.keys():\n",
    "            output = to_appr[output]\n",
    "        elif user_status == s_list[2] and output in to_part.keys():\n",
    "            output = to_part[output]\n",
    "\n",
    "        #transformer la réponse et la renvoyer\n",
    "        response_tag = le.inverse_transform([output])[0]\n",
    "        response = str(\"Chatbot : \",random.choice(responses[response_tag]))\n",
    "        return response\n",
    "\n",
    "    #lancer l'API\n",
    "    if __name__ == \"__main__\":\n",
    "        app.run()"
   ]
  }
 ],
 "metadata": {
  "kernelspec": {
   "display_name": "Python 3",
   "language": "python",
   "name": "python3"
  },
  "language_info": {
   "codemirror_mode": {
    "name": "ipython",
    "version": 3
   },
   "file_extension": ".py",
   "mimetype": "text/x-python",
   "name": "python",
   "nbconvert_exporter": "python",
   "pygments_lexer": "ipython3",
   "version": "3.8.3"
  }
 },
 "nbformat": 4,
 "nbformat_minor": 5
}
